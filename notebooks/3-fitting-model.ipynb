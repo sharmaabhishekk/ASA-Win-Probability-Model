{
 "cells": [
  {
   "cell_type": "markdown",
   "metadata": {},
   "source": [
    "# Notebook 3: Modelling "
   ]
  },
  {
   "cell_type": "code",
   "execution_count": 1,
   "metadata": {},
   "outputs": [
    {
     "data": {
      "text/html": [
       "<style type='text/css'>\n",
       ".datatable table.frame { margin-bottom: 0; }\n",
       ".datatable table.frame thead { border-bottom: none; }\n",
       ".datatable table.frame tr.coltypes td {  color: #FFFFFF;  line-height: 6px;  padding: 0 0.5em;}\n",
       ".datatable .bool    { background: #DDDD99; }\n",
       ".datatable .object  { background: #565656; }\n",
       ".datatable .int     { background: #5D9E5D; }\n",
       ".datatable .float   { background: #4040CC; }\n",
       ".datatable .str     { background: #CC4040; }\n",
       ".datatable .row_index {  background: var(--jp-border-color3);  border-right: 1px solid var(--jp-border-color0);  color: var(--jp-ui-font-color3);  font-size: 9px;}\n",
       ".datatable .frame tr.coltypes .row_index {  background: var(--jp-border-color0);}\n",
       ".datatable th:nth-child(2) { padding-left: 12px; }\n",
       ".datatable .hellipsis {  color: var(--jp-cell-editor-border-color);}\n",
       ".datatable .vellipsis {  background: var(--jp-layout-color0);  color: var(--jp-cell-editor-border-color);}\n",
       ".datatable .na {  color: var(--jp-cell-editor-border-color);  font-size: 80%;}\n",
       ".datatable .footer { font-size: 9px; }\n",
       ".datatable .frame_dimensions {  background: var(--jp-border-color3);  border-top: 1px solid var(--jp-border-color0);  color: var(--jp-ui-font-color3);  display: inline-block;  opacity: 0.6;  padding: 1px 10px 1px 5px;}\n",
       "</style>\n"
      ],
      "text/plain": [
       "<IPython.core.display.HTML object>"
      ]
     },
     "metadata": {},
     "output_type": "display_data"
    }
   ],
   "source": [
    "import json\n",
    "import os\n",
    "from glob import glob\n",
    "\n",
    "import pandas as pd\n",
    "import numpy as np\n",
    "import matplotlib.pyplot as plt; plt.style.use(\"custom_ggplot\")\n",
    "import matplotlib.ticker as mtick\n",
    "from tqdm import tqdm\n",
    "\n",
    "import lightgbm as lgb\n",
    "from sklearn.model_selection import train_test_split"
   ]
  },
  {
   "cell_type": "code",
   "execution_count": 2,
   "metadata": {},
   "outputs": [
    {
     "name": "stdout",
     "output_type": "stream",
     "text": [
      "(578304, 38)\n",
      "(63437, 14)\n"
     ]
    }
   ],
   "source": [
    "WYSCOUT_DATA_FOLDER = \"../wyscout_figshare_data\" ## path where the wyscout data is extracted\n",
    "\n",
    "df = pd.read_csv(\"../final_processed_data.csv\")\n",
    "\n",
    "with open(os.path.join(WYSCOUT_DATA_FOLDER, 'teams.json')) as f:\n",
    "    teams_meta = json.load(f)\n",
    "team_names_dict = {t['wyId']:t['name'] for t in teams_meta}\n",
    "\n",
    "p = df.groupby([\"matchId\", \"teamId\", \"minutes_remaining\"]).agg(\n",
    "    score_differential =(\"score_differential\", \"last\"), \n",
    "    goals_scored = (\"goals_scored\", \"last\"), \n",
    "    player_differential = (\"player_differential\", \"last\"), \n",
    "    own_yellow_cards = (\"own_yellow_cards\", \"last\"), \n",
    "    opposition_yellow_cards = (\"opposition_yellow_cards\", \"last\"), \n",
    "    is_home_team = (\"is_home_team\", \"last\"), \n",
    "    avg_team_xt = (\"avg_team_xt\", \"last\"), \n",
    "    avg_opp_xt = (\"avg_opp_xt\", \"last\"), \n",
    "    running_xt_differential = (\"running_xt_differential\", \"mean\"), \n",
    "    scored_goal_after = (\"scored_goal_after\", \"last\"), \n",
    "    time_interval=('time_interval', 'last')\n",
    ").reset_index().sort_values(['matchId', 'time_interval'])\n",
    "\n",
    "print(df.shape)\n",
    "print(p.shape)"
   ]
  },
  {
   "cell_type": "code",
   "execution_count": 3,
   "metadata": {},
   "outputs": [
    {
     "data": {
      "text/html": [
       "<div>\n",
       "<style scoped>\n",
       "    .dataframe tbody tr th:only-of-type {\n",
       "        vertical-align: middle;\n",
       "    }\n",
       "\n",
       "    .dataframe tbody tr th {\n",
       "        vertical-align: top;\n",
       "    }\n",
       "\n",
       "    .dataframe thead th {\n",
       "        text-align: right;\n",
       "    }\n",
       "</style>\n",
       "<table border=\"1\" class=\"dataframe\">\n",
       "  <thead>\n",
       "    <tr style=\"text-align: right;\">\n",
       "      <th></th>\n",
       "      <th>matchId</th>\n",
       "      <th>teamId</th>\n",
       "      <th>minutes_remaining</th>\n",
       "      <th>score_differential</th>\n",
       "      <th>goals_scored</th>\n",
       "      <th>player_differential</th>\n",
       "      <th>own_yellow_cards</th>\n",
       "      <th>opposition_yellow_cards</th>\n",
       "      <th>is_home_team</th>\n",
       "      <th>avg_team_xt</th>\n",
       "      <th>avg_opp_xt</th>\n",
       "      <th>running_xt_differential</th>\n",
       "      <th>scored_goal_after</th>\n",
       "      <th>time_interval</th>\n",
       "    </tr>\n",
       "  </thead>\n",
       "  <tbody>\n",
       "    <tr>\n",
       "      <th>90</th>\n",
       "      <td>2499759</td>\n",
       "      <td>1651</td>\n",
       "      <td>95</td>\n",
       "      <td>0</td>\n",
       "      <td>0</td>\n",
       "      <td>0</td>\n",
       "      <td>0</td>\n",
       "      <td>0</td>\n",
       "      <td>0</td>\n",
       "      <td>1.493016</td>\n",
       "      <td>1.370667</td>\n",
       "      <td>0.001277</td>\n",
       "      <td>0.010101</td>\n",
       "      <td>1</td>\n",
       "    </tr>\n",
       "    <tr>\n",
       "      <th>183</th>\n",
       "      <td>2499759</td>\n",
       "      <td>1659</td>\n",
       "      <td>95</td>\n",
       "      <td>0</td>\n",
       "      <td>0</td>\n",
       "      <td>0</td>\n",
       "      <td>0</td>\n",
       "      <td>0</td>\n",
       "      <td>1</td>\n",
       "      <td>1.370667</td>\n",
       "      <td>1.493016</td>\n",
       "      <td>-0.000255</td>\n",
       "      <td>0.020202</td>\n",
       "      <td>1</td>\n",
       "    </tr>\n",
       "    <tr>\n",
       "      <th>89</th>\n",
       "      <td>2499759</td>\n",
       "      <td>1651</td>\n",
       "      <td>94</td>\n",
       "      <td>0</td>\n",
       "      <td>0</td>\n",
       "      <td>0</td>\n",
       "      <td>0</td>\n",
       "      <td>0</td>\n",
       "      <td>0</td>\n",
       "      <td>1.493016</td>\n",
       "      <td>1.370667</td>\n",
       "      <td>0.001245</td>\n",
       "      <td>0.010204</td>\n",
       "      <td>2</td>\n",
       "    </tr>\n",
       "    <tr>\n",
       "      <th>182</th>\n",
       "      <td>2499759</td>\n",
       "      <td>1659</td>\n",
       "      <td>94</td>\n",
       "      <td>0</td>\n",
       "      <td>0</td>\n",
       "      <td>0</td>\n",
       "      <td>0</td>\n",
       "      <td>0</td>\n",
       "      <td>1</td>\n",
       "      <td>1.370667</td>\n",
       "      <td>1.493016</td>\n",
       "      <td>-0.001384</td>\n",
       "      <td>0.020408</td>\n",
       "      <td>2</td>\n",
       "    </tr>\n",
       "    <tr>\n",
       "      <th>88</th>\n",
       "      <td>2499759</td>\n",
       "      <td>1651</td>\n",
       "      <td>93</td>\n",
       "      <td>0</td>\n",
       "      <td>0</td>\n",
       "      <td>0</td>\n",
       "      <td>0</td>\n",
       "      <td>0</td>\n",
       "      <td>0</td>\n",
       "      <td>1.493016</td>\n",
       "      <td>1.370667</td>\n",
       "      <td>-0.001422</td>\n",
       "      <td>0.010309</td>\n",
       "      <td>3</td>\n",
       "    </tr>\n",
       "  </tbody>\n",
       "</table>\n",
       "</div>"
      ],
      "text/plain": [
       "     matchId  teamId  minutes_remaining  score_differential  goals_scored  \\\n",
       "90   2499759    1651                 95                   0             0   \n",
       "183  2499759    1659                 95                   0             0   \n",
       "89   2499759    1651                 94                   0             0   \n",
       "182  2499759    1659                 94                   0             0   \n",
       "88   2499759    1651                 93                   0             0   \n",
       "\n",
       "     player_differential  own_yellow_cards  opposition_yellow_cards  \\\n",
       "90                     0                 0                        0   \n",
       "183                    0                 0                        0   \n",
       "89                     0                 0                        0   \n",
       "182                    0                 0                        0   \n",
       "88                     0                 0                        0   \n",
       "\n",
       "     is_home_team  avg_team_xt  avg_opp_xt  running_xt_differential  \\\n",
       "90              0     1.493016    1.370667                 0.001277   \n",
       "183             1     1.370667    1.493016                -0.000255   \n",
       "89              0     1.493016    1.370667                 0.001245   \n",
       "182             1     1.370667    1.493016                -0.001384   \n",
       "88              0     1.493016    1.370667                -0.001422   \n",
       "\n",
       "     scored_goal_after  time_interval  \n",
       "90            0.010101              1  \n",
       "183           0.020202              1  \n",
       "89            0.010204              2  \n",
       "182           0.020408              2  \n",
       "88            0.010309              3  "
      ]
     },
     "execution_count": 3,
     "metadata": {},
     "output_type": "execute_result"
    }
   ],
   "source": [
    "p.head()"
   ]
  },
  {
   "cell_type": "code",
   "execution_count": 4,
   "metadata": {},
   "outputs": [],
   "source": [
    "holdout_match_ids = [2500098]"
   ]
  },
  {
   "cell_type": "code",
   "execution_count": 5,
   "metadata": {},
   "outputs": [
    {
     "name": "stdout",
     "output_type": "stream",
     "text": [
      "Training until validation scores don't improve for 200 rounds\n",
      "[20]\tvalid_0's l2: 0.000354763\n",
      "[40]\tvalid_0's l2: 0.000298449\n",
      "[60]\tvalid_0's l2: 0.000267932\n",
      "[80]\tvalid_0's l2: 0.000245506\n",
      "[100]\tvalid_0's l2: 0.000226545\n",
      "Did not meet early stopping. Best iteration is:\n",
      "[100]\tvalid_0's l2: 0.000226545\n"
     ]
    }
   ],
   "source": [
    "cols =  [\n",
    "    'goals_scored',\n",
    "    'player_differential', \n",
    "    'own_yellow_cards', \n",
    "    'opposition_yellow_cards', \n",
    "    'is_home_team',\n",
    "    'avg_team_xt', \n",
    "    'avg_opp_xt', \n",
    "    'time_interval', \n",
    "    'running_xt_differential',\n",
    "    'score_differential'\n",
    "]\n",
    "\n",
    "features = [\n",
    "    'goals_scored',\n",
    "    'player_differential', \n",
    "    'own_yellow_cards', \n",
    "    'opposition_yellow_cards', \n",
    "    'is_home_team',\n",
    "    'avg_team_xt', \n",
    "    'avg_opp_xt', \n",
    "    'running_xt_differential',\n",
    "    'score_differential'\n",
    "]\n",
    "\n",
    "target = 'scored_goal_after'\n",
    "\n",
    "X_train, X_test, y_train, y_test = train_test_split(p.query(\"matchId != @holdout_match_ids\")[cols], \n",
    "                                                    p.query(\"matchId != @holdout_match_ids\")[target], \n",
    "                                                    test_size=0.2, random_state=42\n",
    "                                                   )\n",
    "model = lgb.LGBMRegressor()\n",
    "model.fit(X_train[features], y_train, \n",
    "          eval_set=[(X_test[features], y_test)], early_stopping_rounds=200, \n",
    "          verbose=20\n",
    "         )\n",
    "predictions = model.predict(X_test[features])"
   ]
  },
  {
   "cell_type": "code",
   "execution_count": 6,
   "metadata": {},
   "outputs": [
    {
     "data": {
      "image/png": "[encoded data removed]",
      "text/plain": [
       "<Figure size 432x288 with 1 Axes>"
      ]
     },
     "metadata": {},
     "output_type": "display_data"
    }
   ],
   "source": [
    "(pd.Series(model.feature_importances_, index=features)\n",
    " .sort_values()\n",
    "   .plot(kind='barh', title='Feature Importance'));"
   ]
  },
  {
   "cell_type": "markdown",
   "metadata": {},
   "source": [
    "The most important features seem to be the pre-match team strength indicators - `avg_team_xt` & `avg_opp_xt` - which does make sense. Remember, at this point we are not trying to predict the win probability but simply the probability of the teams scoring in the remaining time intervals. Using the model predicted probabilities to simulate and calculate the win probability comes next. "
   ]
  },
  {
   "cell_type": "code",
   "execution_count": 7,
   "metadata": {},
   "outputs": [
    {
     "data": {
      "image/png": "[encoded data removed]",
      "text/plain": [
       "<Figure size 432x288 with 1 Axes>"
      ]
     },
     "metadata": {},
     "output_type": "display_data"
    }
   ],
   "source": [
    "plt.hist(model.predict(X_test[features]), ec='k') \n",
    "plt.title('Predictions Distributions');"
   ]
  },
  {
   "cell_type": "code",
   "execution_count": 8,
   "metadata": {},
   "outputs": [
    {
     "data": {
      "image/png": "[encoded data removed]",
      "text/plain": [
       "<Figure size 1080x432 with 1 Axes>"
      ]
     },
     "execution_count": 8,
     "metadata": {},
     "output_type": "execute_result"
    }
   ],
   "source": [
    "n_sims = 1000 ## number of simulations for each remaining time interval\n",
    "fig, axes = plt.subplots(figsize=(15, 6), sharey=True)\n",
    "\n",
    "for holdout_match_id, ax in zip(holdout_match_ids, [axes]):\n",
    "    holdout = p.query(\"matchId == @holdout_match_id\").copy()\n",
    "    holdout[\"team_scoring_prob\"] = model.predict(holdout[features])\n",
    "\n",
    "    home_team_id = holdout.query(\"is_home_team == 1\").teamId.unique()[0]\n",
    "    away_team_id = holdout.query(\"is_home_team == 0\").teamId.unique()[0]\n",
    "    h = holdout.pivot_table(index='time_interval', \n",
    "                            columns='teamId', \n",
    "                            values=['team_scoring_prob', 'score_differential']).reset_index()\n",
    "    h.columns = [a+\"_\"+str(b) for (a,b) in h.columns]\n",
    "    h = h.reset_index(drop=True)\n",
    "    \n",
    "    for idx in h[h.isnull().any(axis=1)].index:\n",
    "        if h.loc[idx, f\"score_differential_{home_team_id}\"] != h.loc[idx, f\"score_differential_{home_team_id}\"]:\n",
    "            h.loc[idx, f\"score_differential_{home_team_id}\"] = -h.loc[idx, f\"score_differential_{away_team_id}\"]\n",
    "            \n",
    "        elif h.loc[idx, f\"score_differential_{away_team_id}\"] != h.loc[idx, f\"score_differential_{away_team_id}\"]:\n",
    "            h.loc[idx, f\"score_differential_{away_team_id}\"] = -h.loc[idx, f\"score_differential_{home_team_id}\"]\n",
    "            \n",
    "    h = h.fillna(0)\n",
    "    home_wins_list = []\n",
    "    away_wins_list = []\n",
    "    draws_list = []\n",
    "\n",
    "    for time_interval, hsd, asd, h_prob, a_prob in zip(h[\"time_interval_\"], \n",
    "                                               h[f\"score_differential_{home_team_id}\"], \n",
    "                                               h[f\"score_differential_{away_team_id}\"], \n",
    "                                               h[f\"team_scoring_prob_{home_team_id}\"], \n",
    "                                               h[f\"team_scoring_prob_{away_team_id}\"]):\n",
    "        if time_interval != 100:\n",
    "\n",
    "            home_goals_sim = np.random.binomial(100-time_interval, h_prob, n_sims)\n",
    "            away_goals_sim = np.random.binomial(100-time_interval, a_prob, n_sims)\n",
    "            \n",
    "            home_sd_sim = hsd + (home_goals_sim - away_goals_sim)\n",
    "\n",
    "            home_wins = np.sum(home_sd_sim > 0)\n",
    "            away_wins = np.sum(home_sd_sim < 0)\n",
    "            draws = np.sum(home_sd_sim == 0)\n",
    "\n",
    "            home_wins_list.append((home_wins/n_sims)*100)\n",
    "            away_wins_list.append((away_wins/n_sims)*100)\n",
    "            draws_list.append((draws/n_sims)*100)\n",
    "            \n",
    "        else:\n",
    "            \n",
    "            home_wins_list.append(0)\n",
    "            away_wins_list.append(0)\n",
    "            draws_list.append(0)\n",
    "\n",
    "    y = np.vstack([home_wins_list, draws_list, away_wins_list])\n",
    "    \n",
    "    ax.stackplot(range(len(home_wins_list)), \n",
    "                 y, \n",
    "                 labels=[f\"{team_names_dict[home_team_id]} win\", \"Draw\", f\"{team_names_dict[away_team_id]} win\"]\n",
    "                )\n",
    "    ax.yaxis.set_major_formatter(mtick.PercentFormatter())\n",
    "    \n",
    "    draw_home_goals = draw_away_goals = True\n",
    "    for (idx, val) in h.loc[(h[f\"score_differential_{home_team_id}\"].diff()!=0), f\"score_differential_{home_team_id}\"].diff().dropna().iteritems():\n",
    "        if val == 1:\n",
    "            if draw_home_goals:\n",
    "                draw_home_goals = False\n",
    "                hlabel = \"Home team scores\"\n",
    "            else:\n",
    "                hlabel = None\n",
    "            ax.vlines(idx, 0, 100, color=['white'], label=hlabel)\n",
    "        elif val == -1:\n",
    "            if draw_away_goals:\n",
    "                alabel = \"Away team scores\"\n",
    "                draw_away_goals = False\n",
    "            else:\n",
    "                alabel = None\n",
    "            ax.vlines(idx, 0, 100, color=['black'], label=alabel)\n",
    "    \n",
    "    ## plot cosmetics\n",
    "    \n",
    "    ax.set(xlabel = \"Time interval\", \n",
    "           ylabel= \"Percentage probability\",\n",
    "           xlim=(0, len(home_wins_list)),\n",
    "           ylim=(0, 100)\n",
    "          )\n",
    "    \n",
    "    ax.title.set(text=f\"{team_names_dict[home_team_id]} vs {team_names_dict[away_team_id]}\\nPremier League 2017/18\",\n",
    "                 fontsize=24, x=0, ha='left')\n",
    "\n",
    "    ax.legend(loc=1, \n",
    "             bbox_to_anchor=(0.8, 0.98, 0.2, 0.2));\n",
    "    # fig.savefig('test', dpi=200)\n",
    "\n",
    "fig"
   ]
  },
  {
   "cell_type": "code",
   "execution_count": null,
   "metadata": {},
   "outputs": [],
   "source": []
  }
 ],
 "metadata": {
  "kernelspec": {
   "display_name": "Python 3",
   "language": "python",
   "name": "python3"
  },
  "language_info": {
   "codemirror_mode": {
    "name": "ipython",
    "version": 3
   },
   "file_extension": ".py",
   "mimetype": "text/x-python",
   "name": "python",
   "nbconvert_exporter": "python",
   "pygments_lexer": "ipython3",
   "version": "3.8.3"
  }
 },
 "nbformat": 4,
 "nbformat_minor": 4
}
